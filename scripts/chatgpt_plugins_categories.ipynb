{
 "cells": [
  {
   "cell_type": "code",
   "execution_count": 75,
   "metadata": {},
   "outputs": [
    {
     "data": {
      "text/plain": [
       "{'id': 'plugin-f1440a26-db54-4cae-a394-425c4042ecaa',\n",
       " 'domain': 'baseball-stats.azurewebsites.net',\n",
       " 'namespace': 'Major_League_Baseball_Statistics_Plugin',\n",
       " 'status': 'approved',\n",
       " 'manifest': {'schema_version': 'v1',\n",
       "  'name_for_model': 'Major_League_Baseball_Statistics_Plugin',\n",
       "  'name_for_human': 'MLB Stats',\n",
       "  'description_for_model': \"Plugin for retrieving up to date baseball statistics for teams and players across the MLB. This plugin should be used for retrieving any baseball-related information that is current beyond ChatGPT's cutoff date of September 2021.\",\n",
       "  'description_for_human': 'Access up-to-date baseball news and statistics for players and teams across the MLB.',\n",
       "  'auth': {'type': 'none'},\n",
       "  'api': {'type': 'openapi',\n",
       "   'url': 'https://baseball-stats.azurewebsites.net/openapi.yaml'},\n",
       "  'logo_url': 'https://baseball-stats.azurewebsites.net/logo.png',\n",
       "  'contact_email': 'joe.fogelman9@gmail.com',\n",
       "  'legal_info_url': 'https://github.com/fogel-j/baseball-stats-ai'},\n",
       " 'oauth_client_id': None,\n",
       " 'user_settings': {'is_installed': False, 'is_authenticated': True},\n",
       " 'categories': [{'id': 'newly_added', 'title': 'New'}]}"
      ]
     },
     "execution_count": 75,
     "metadata": {},
     "output_type": "execute_result"
    }
   ],
   "source": [
    "import json\n",
    "import pandas as pd\n",
    "\n",
    "# Load the JSON file\n",
    "with open(\"chatgpt_plugins.json\", \"r\") as file:\n",
    "    plugins = json.load(file)\n",
    "\n",
    "# Convert to DataFrame\n",
    "df = pd.DataFrame(plugins)\n",
    "\n",
    "df['items'][0]"
   ]
  },
  {
   "cell_type": "code",
   "execution_count": 76,
   "metadata": {},
   "outputs": [
    {
     "data": {
      "text/html": [
       "<div>\n",
       "<style scoped>\n",
       "    .dataframe tbody tr th:only-of-type {\n",
       "        vertical-align: middle;\n",
       "    }\n",
       "\n",
       "    .dataframe tbody tr th {\n",
       "        vertical-align: top;\n",
       "    }\n",
       "\n",
       "    .dataframe thead th {\n",
       "        text-align: right;\n",
       "    }\n",
       "</style>\n",
       "<table border=\"1\" class=\"dataframe\">\n",
       "  <thead>\n",
       "    <tr style=\"text-align: right;\">\n",
       "      <th></th>\n",
       "      <th>plugin</th>\n",
       "      <th>description_for_model</th>\n",
       "      <th>description_for_human</th>\n",
       "      <th>logo_url</th>\n",
       "    </tr>\n",
       "  </thead>\n",
       "  <tbody>\n",
       "    <tr>\n",
       "      <th>0</th>\n",
       "      <td>MLB Stats</td>\n",
       "      <td>Plugin for retrieving up to date baseball stat...</td>\n",
       "      <td>Access up-to-date baseball news and statistics...</td>\n",
       "      <td>https://baseball-stats.azurewebsites.net/logo.png</td>\n",
       "    </tr>\n",
       "    <tr>\n",
       "      <th>1</th>\n",
       "      <td>Love Discounts UK</td>\n",
       "      <td>Fetches store information and available coupon...</td>\n",
       "      <td>Ask for the best Love Discounts UK codes for 1...</td>\n",
       "      <td>https://cdn.lovesavingsgroup.com/assets/favico...</td>\n",
       "    </tr>\n",
       "    <tr>\n",
       "      <th>2</th>\n",
       "      <td>API Bot</td>\n",
       "      <td>API Bot provides information about aws , googl...</td>\n",
       "      <td>This is a conversational bot that lets you ask...</td>\n",
       "      <td>https://firebasestorage.googleapis.com/v0/b/se...</td>\n",
       "    </tr>\n",
       "    <tr>\n",
       "      <th>3</th>\n",
       "      <td>AIQuest</td>\n",
       "      <td>As AI, you generate a unique story based on pl...</td>\n",
       "      <td>An interactive text adventure. Your choices sh...</td>\n",
       "      <td>https://aiquest.waxime.dev/logo.png</td>\n",
       "    </tr>\n",
       "    <tr>\n",
       "      <th>4</th>\n",
       "      <td>Denison Yachting</td>\n",
       "      <td>Plugin for searching through our selection of ...</td>\n",
       "      <td>Search yachts for sale, charters, new construc...</td>\n",
       "      <td>https://www.denisonyachtsales.com/.well-known/...</td>\n",
       "    </tr>\n",
       "  </tbody>\n",
       "</table>\n",
       "</div>"
      ],
      "text/plain": [
       "              plugin                              description_for_model  \\\n",
       "0          MLB Stats  Plugin for retrieving up to date baseball stat...   \n",
       "1  Love Discounts UK  Fetches store information and available coupon...   \n",
       "2            API Bot  API Bot provides information about aws , googl...   \n",
       "3            AIQuest  As AI, you generate a unique story based on pl...   \n",
       "4   Denison Yachting  Plugin for searching through our selection of ...   \n",
       "\n",
       "                               description_for_human  \\\n",
       "0  Access up-to-date baseball news and statistics...   \n",
       "1  Ask for the best Love Discounts UK codes for 1...   \n",
       "2  This is a conversational bot that lets you ask...   \n",
       "3  An interactive text adventure. Your choices sh...   \n",
       "4  Search yachts for sale, charters, new construc...   \n",
       "\n",
       "                                            logo_url  \n",
       "0  https://baseball-stats.azurewebsites.net/logo.png  \n",
       "1  https://cdn.lovesavingsgroup.com/assets/favico...  \n",
       "2  https://firebasestorage.googleapis.com/v0/b/se...  \n",
       "3                https://aiquest.waxime.dev/logo.png  \n",
       "4  https://www.denisonyachtsales.com/.well-known/...  "
      ]
     },
     "execution_count": 76,
     "metadata": {},
     "output_type": "execute_result"
    }
   ],
   "source": [
    "# Create a new DataFrame with 'id' and 'description_for_model' for each plugin\n",
    "plugins_df = pd.DataFrame(\n",
    "    [(item['manifest']['name_for_human'], item['manifest']['description_for_model'], item['manifest']['description_for_human'], item['manifest']['logo_url']) for item in df['items']],\n",
    "    columns=['plugin', 'description_for_model', 'description_for_human', 'logo_url']\n",
    ")\n",
    "\n",
    "plugins_df.head()"
   ]
  },
  {
   "cell_type": "code",
   "execution_count": 77,
   "metadata": {},
   "outputs": [
    {
     "data": {
      "text/plain": [
       "dict_keys(['Shopping', 'Job and Career', 'Financial', 'AI assisted search', 'Content Search', 'Japan', 'Learning', 'Marketing', 'Code', 'News', 'Analytics', 'Sports', 'Entertainment', 'Machine Learning', 'Summarization', 'Legal', 'Charts and Diagrams', 'Productivity', 'Earth', 'Uncategorized'])"
      ]
     },
     "execution_count": 77,
     "metadata": {},
     "output_type": "execute_result"
    }
   ],
   "source": [
    "# Define categories and associated keywords\n",
    "categories = {\n",
    "    \"Shopping\": [\"products\", \"shopping\", \"coupons\", \"amazon\", \"ebay\", \"aliexpress\", \"deals\", \"shop\"],\n",
    "    \"Job and Career\": [\"job\", \"talent\", \"hiring\", \"freelance\", \"interview\", \"career\", \"recruit\", \"recruitment\", \"salary\"],\n",
    "    \"Financial\": [\"market data\", \"stocks\", \"market analytics\", \"financial\", \"crypto\", \"finance\", \"bank\", \"interest rates\", \"currency\", \"bitcoin\", \"btc\", \"eth\"],\n",
    "    \"AI assisted search\": [\"ai-assisted\", \"search\", \"google\", \"bing\", \"wolfram\" ],\n",
    "    \"Content Search\": [\"pdf\", \"videos\", \"links\", \"url link\", \"video search\", \"pdfs\"],\n",
    "    \"Japan\": [\"japan\", \"japanese\"],\n",
    "    \"Learning\": [\"education\", \"learn\", \"lessons\", \"learning material\", \"curriculum\", \"class\", \"classes\", \"teacher\", \"teachers\", \"tutor\", \"tutors\"],\n",
    "    \"Marketing\": [\"social network\", \"marketing\", \"posting\", \"seo\", \"search engine optimization\", \"social media\", \"social media marketing\", \"social media management\"],\n",
    "    \"Code\": [\"github\", \"coding\", \"code generation\", \"code\", \"programming\", \"programmer\", \"programmers\", \"developer\", \"developers\", \"development\", \"develop\", \"develops\", \"developing\", \"software\", \"stack overflow\", \"stackoverflow\", \"domain\", \"domains\"],\n",
    "    \"News\": [\"news\", \"newspaper\", \"newspapers\", \"article\", \"articles\", \"blog\", \"blogs\", \"blogging\"],\n",
    "    \"Analytics\": [\"analytics\", \"insights\", \"data insights\", \"data analytics\", \"data analysis\", \"data scientist\"],\n",
    "    \"Sports\": [\"sports\", \"nfl\", \"nhl\", \"nba\", \"nfl\", \"mlb\", \"baseball\", \"football\", \"basketball\", \"soccer\", \"hockey\", \"team\", \"teams\", \"player\", \"players\", \"score\", \"scores\", \"standings\", \"standings\", \"stats\", \"statistics\"],\n",
    "    \"Entertainment\": [\"tv shows\", \"tv\", \"movies\", \"games\", \"minecraft\", \"gaming\", \"game\", \"video games\", \"video game\", \"anime\", \"manga\", \"comic\", \"comics\", \"cartoon\", \"cartoons\", \"entertainment\", \"fun\", \"funny\", \"joke\", \"jokes\", \"meme\", \"memes\", \"music\", \"songs\", \"song\", \"lyrics\", \"lyric\", \"lyric search\", \"lyrics search\", \"poem\", \"poems\", \"poetry\", \"poet\", \"poets\", \"poem search\", \"poems search\", \"poetry search\", \"poet search\", \"poets search\", \"story\", \"stories\", \"novel\", \"novels\", \"book\", \"books\", \"audiobook\", \"audiobooks\", \"pokemon\"],\n",
    "    \"Machine Learning\": [\"ml\", \"machine learning\", \"dataset exploration\", \"datasets\", \"dataset\", \"data visualization\"],\n",
    "    \"Summarization\": [\"summarize\", \"summarization\", \"paraphraser\", \"paraphrase\", \"summarizer\"],\n",
    "    \"Legal\": [\"law\", \"legal\", \"laws\", \"case laws\", \"caselaw\", \"lawyer\", \"lawyers\", \"attorney\", \"attorneys\", \"legal advice\", \"legal advice\"],\n",
    "    \"Charts and Diagrams\": [\"graph\", \"graphing\", \"charts\", \"charting\", \"diagrams\", \"diagram\", \"plot\", \"plots\", \"plotting\", \"form\", \"forms\"],\n",
    "    \"Productivity\": [\"automation\", \"productivity\", \"translation\", \"utility\", \"utilities\", \"task\", \"tasks\", \"todos\", \"todo\", \"calendar\", \"calendars\", \"reminder\", \"reminders\", \"timer\", \"timers\", \"alarm\", \"alarms\", \"clock\", \"clocks\", \"time\", \"times\", \"date\", \"dates\", \"schedule\", \"schedules\", \"planner\", \"planners\", \"note\", \"notes\", \"notepad\", \"notepads\", \"calculator\", \"calculators\"],\n",
    "    \"Earth\": [\"earth\", \"weather\", \"map\", \"maps\", \"travel\"],\n",
    "    \"Uncategorized\": []\n",
    "}\n",
    "\n",
    "# Lowercase all keywords for accurate matching\n",
    "for category, keywords in categories.items():\n",
    "    categories[category] = [keyword.lower() for keyword in keywords]\n",
    "\n",
    "categories.keys()\n"
   ]
  },
  {
   "cell_type": "code",
   "execution_count": 78,
   "metadata": {},
   "outputs": [
    {
     "data": {
      "text/plain": [
       "dict_keys(['AI assisted search', 'Analytics', 'Charts and Diagrams', 'Code', 'Content Search', 'Earth', 'Entertainment', 'Financial', 'Japan', 'Job and Career', 'Learning', 'Legal', 'Machine Learning', 'Marketing', 'News', 'Productivity', 'Shopping', 'Sports', 'Summarization', 'Uncategorized'])"
      ]
     },
     "execution_count": 78,
     "metadata": {},
     "output_type": "execute_result"
    }
   ],
   "source": [
    "from collections import defaultdict\n",
    "\n",
    "def categorize_plugin(plugin, categories):\n",
    "    # Extract necessary fields\n",
    "    name = plugin['plugin']\n",
    "    description_model = plugin['description_for_model'].lower()\n",
    "    description_human = plugin['description_for_human'].lower()\n",
    "\n",
    "    # Initialize a dictionary to store matched categories\n",
    "    matched_categories = defaultdict(int)\n",
    "\n",
    "    for category, keywords in categories.items():\n",
    "        # Check each category. Categories is a dict of \"plugin\": [\"keyword1\", \"keyword2\"...]\n",
    "        # Check if any of the keywords match the plugin's description\n",
    "        if any(keyword in description_model or keyword in description_human for keyword in keywords):\n",
    "            matched_categories[category] += 1\n",
    "    \n",
    "    # if no categories were matched, assign the plugin to the 'Uncategorized' category\n",
    "    if not matched_categories:\n",
    "        matched_categories['Uncategorized'] += 1\n",
    "    \n",
    "    # Sort the categories by count and return the top 2\n",
    "    sorted_categories = sorted(matched_categories.items(), key=lambda x: x[1], reverse=True)[:2]\n",
    "    return [category for category, _ in sorted_categories]\n",
    "        \n",
    "        \n",
    "# Initialize a dictionary to store plugins by category\n",
    "categorized_plugins = defaultdict(list)\n",
    "\n",
    "for _, plugin in plugins_df.iterrows():\n",
    "    categorized = categorize_plugin(plugin, categories)\n",
    "    for category in categorized:\n",
    "        categorized_plugins[category].append(plugin)\n",
    "\n",
    "# Sort the categories alphabetically\n",
    "categorized_plugins = dict(sorted(categorized_plugins.items(), key=lambda item: item[0]))\n",
    "\n",
    "categorized_plugins.keys()\n"
   ]
  },
  {
   "cell_type": "code",
   "execution_count": 79,
   "metadata": {},
   "outputs": [
    {
     "name": "stdout",
     "output_type": "stream",
     "text": [
      "AI assisted search: 229 plugins\n",
      "Analytics: 22 plugins\n",
      "Charts and Diagrams: 97 plugins\n",
      "Code: 81 plugins\n",
      "Content Search: 61 plugins\n",
      "Earth: 19 plugins\n",
      "Entertainment: 71 plugins\n",
      "Financial: 122 plugins\n",
      "Japan: 7 plugins\n",
      "Job and Career: 42 plugins\n",
      "Learning: 37 plugins\n",
      "Legal: 3 plugins\n",
      "Machine Learning: 8 plugins\n",
      "Marketing: 18 plugins\n",
      "News: 35 plugins\n",
      "Productivity: 57 plugins\n",
      "Shopping: 73 plugins\n",
      "Sports: 22 plugins\n",
      "Summarization: 10 plugins\n",
      "Uncategorized: 82 plugins\n"
     ]
    }
   ],
   "source": [
    "for category, plugins in categorized_plugins.items():\n",
    "    print(f\"{category}: {len(plugins)} plugins\")"
   ]
  },
  {
   "cell_type": "code",
   "execution_count": 80,
   "metadata": {},
   "outputs": [],
   "source": [
    "# Function to create markdown text for a plugin\n",
    "def create_markdown_for_plugin(plugin):\n",
    "    name = plugin['plugin'].strip()\n",
    "    description = plugin['description_for_human'].strip().replace(\"\\n\", \" \")\n",
    "    # Logo URL if it exists, otherwise empty string\n",
    "    logo_url = plugin['logo_url'].strip() \n",
    "    logo = f\"<img src=\\\"{logo_url}\\\" alt=\\\"logo\\\" width=\\\"64\\\" />\" if logo_url else \"\"\n",
    "    return f\"| {logo} | **{name}** | {description} |\\n\"\n",
    "\n",
    "# Initialize the markdown text\n",
    "markdown_text = \"# Categorized Plugins\\n\\n\"\n",
    "\n",
    "# Create markdown text for each category and its plugins\n",
    "for category, plugins in categorized_plugins.items():\n",
    "    markdown_text += f\"\\n## {category}\\n\\n| Logo | Plugin Name | Description |\\n| --- | --- | --- |\\n\"\n",
    "    for plugin in plugins:\n",
    "        markdown_text += create_markdown_for_plugin(plugin)\n",
    "\n",
    "# Write the markdown text to a file\n",
    "with open(\"categorized_plugins.md\", \"w\") as file:\n",
    "    file.write(markdown_text)\n"
   ]
  },
  {
   "cell_type": "code",
   "execution_count": 81,
   "metadata": {},
   "outputs": [
    {
     "name": "stdout",
     "output_type": "stream",
     "text": [
      "Requirement already satisfied: markdown-toc in /opt/homebrew/lib/python3.11/site-packages (1.2.6)\n",
      "Requirement already satisfied: python-dateutil in /opt/homebrew/lib/python3.11/site-packages (from markdown-toc) (2.8.2)\n",
      "Requirement already satisfied: six>=1.5 in /opt/homebrew/lib/python3.11/site-packages (from python-dateutil->markdown-toc) (1.16.0)\n",
      "Note: you may need to restart the kernel to use updated packages.\n",
      "Creating a Table of Contents for 'categorized_plugins.md'\n"
     ]
    }
   ],
   "source": [
    "# Create a Markdown TOC (Table of Contents) for the file\n",
    "%pip install markdown-toc\n",
    "!markdown-toc -toc \"## Plugin Categories\" -t github categorized_plugins.md"
   ]
  },
  {
   "cell_type": "code",
   "execution_count": 82,
   "metadata": {},
   "outputs": [],
   "source": [
    "import re\n",
    "\n",
    "# Append plugins_by_topic.md into README.md, inside the tags: <!-- BEGIN PLUGINS --> and <!-- END PLUGINS -->\n",
    "with open(\"../README.md\", \"r\") as file:\n",
    "    readme_text = file.read()\n",
    "\n",
    "with open(\"categorized_plugins.md\", \"r\") as file:\n",
    "    markdown_text = file.read()\n",
    "\n",
    "with open(\"../README.md\", \"w\") as file:\n",
    "    # Replace the text between the tags <!-- BEGIN PLUGINS --> and <!-- END PLUGINS --> with the markdown text\n",
    "    readme_text = re.sub(r\"<!-- BEGIN PLUGINS -->(.|\\n)*<!-- END PLUGINS -->\", f\"<!-- BEGIN PLUGINS -->\\n\\n{markdown_text}\\n\\n<!-- END PLUGINS -->\", readme_text)\n",
    "    file.write(readme_text)"
   ]
  }
 ],
 "metadata": {
  "kernelspec": {
   "display_name": "Python 3",
   "language": "python",
   "name": "python3"
  },
  "language_info": {
   "codemirror_mode": {
    "name": "ipython",
    "version": 3
   },
   "file_extension": ".py",
   "mimetype": "text/x-python",
   "name": "python",
   "nbconvert_exporter": "python",
   "pygments_lexer": "ipython3",
   "version": "3.11.4"
  },
  "orig_nbformat": 4
 },
 "nbformat": 4,
 "nbformat_minor": 2
}
