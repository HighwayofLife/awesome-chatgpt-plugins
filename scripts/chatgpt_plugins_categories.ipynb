{
 "cells": [
  {
   "cell_type": "code",
   "execution_count": 41,
   "metadata": {},
   "outputs": [
    {
     "data": {
      "text/plain": [
       "{'id': 'plugin-5b473eab-6507-4af6-b4f1-354a11f078a0',\n",
       " 'domain': 'chattmdb.waxime.dev',\n",
       " 'namespace': 'ChatTMDB',\n",
       " 'status': 'approved',\n",
       " 'manifest': {'schema_version': 'v1',\n",
       "  'name_for_model': 'ChatTMDB',\n",
       "  'name_for_human': 'Chat TMDB',\n",
       "  'description_for_model': 'ChatGPT, utilize the TMDB plugin to fetch real-time data on a movie, TV series, or actor from the comprehensive database akin to IMDB.',\n",
       "  'description_for_human': 'Movies, Actors and TV shows from TMDB, a database like IMDB.',\n",
       "  'auth': {'type': 'none'},\n",
       "  'api': {'type': 'openapi',\n",
       "   'url': 'https://chattmdb.waxime.dev/openapi.yaml'},\n",
       "  'logo_url': 'https://chattmdb.waxime.dev/logo.png',\n",
       "  'contact_email': 'waxime64@hotmail.com',\n",
       "  'legal_info_url': 'https://chattmdb.waxime.dev/disclaimer_en.html'},\n",
       " 'oauth_client_id': None,\n",
       " 'user_settings': {'is_installed': False, 'is_authenticated': True},\n",
       " 'categories': [{'id': 'newly_added', 'title': 'New'}]}"
      ]
     },
     "execution_count": 41,
     "metadata": {},
     "output_type": "execute_result"
    }
   ],
   "source": [
    "import json\n",
    "import pandas as pd\n",
    "\n",
    "# Load the JSON file\n",
    "with open(\"chatgpt_plugins.json\", \"r\") as file:\n",
    "    plugins = json.load(file)\n",
    "\n",
    "# Convert to DataFrame\n",
    "df = pd.DataFrame(plugins)\n",
    "\n",
    "df['items'][0]"
   ]
  },
  {
   "cell_type": "code",
   "execution_count": 42,
   "metadata": {},
   "outputs": [
    {
     "data": {
      "text/html": [
       "<div>\n",
       "<style scoped>\n",
       "    .dataframe tbody tr th:only-of-type {\n",
       "        vertical-align: middle;\n",
       "    }\n",
       "\n",
       "    .dataframe tbody tr th {\n",
       "        vertical-align: top;\n",
       "    }\n",
       "\n",
       "    .dataframe thead th {\n",
       "        text-align: right;\n",
       "    }\n",
       "</style>\n",
       "<table border=\"1\" class=\"dataframe\">\n",
       "  <thead>\n",
       "    <tr style=\"text-align: right;\">\n",
       "      <th></th>\n",
       "      <th>plugin</th>\n",
       "      <th>description_for_model</th>\n",
       "      <th>description_for_human</th>\n",
       "    </tr>\n",
       "  </thead>\n",
       "  <tbody>\n",
       "    <tr>\n",
       "      <th>0</th>\n",
       "      <td>Chat TMDB</td>\n",
       "      <td>ChatGPT, utilize the TMDB plugin to fetch real...</td>\n",
       "      <td>Movies, Actors and TV shows from TMDB, a datab...</td>\n",
       "    </tr>\n",
       "    <tr>\n",
       "      <th>1</th>\n",
       "      <td>Property Finder UK</td>\n",
       "      <td>Help human to find a property for sale or to r...</td>\n",
       "      <td>Find properties for sale or rent in the UK.</td>\n",
       "    </tr>\n",
       "    <tr>\n",
       "      <th>2</th>\n",
       "      <td>Snappy Gifts</td>\n",
       "      <td>Plugin for generating personalized gift recomm...</td>\n",
       "      <td>Personalized gift options for any budget or ev...</td>\n",
       "    </tr>\n",
       "    <tr>\n",
       "      <th>3</th>\n",
       "      <td>Workout Generator</td>\n",
       "      <td>Display the workout using markdown, embed images</td>\n",
       "      <td>Create strength training workouts, for goals l...</td>\n",
       "    </tr>\n",
       "    <tr>\n",
       "      <th>4</th>\n",
       "      <td>Diary</td>\n",
       "      <td>This plugin offers prompts for seamless diary ...</td>\n",
       "      <td>Kickstart your diary journey. Keeping a diary ...</td>\n",
       "    </tr>\n",
       "  </tbody>\n",
       "</table>\n",
       "</div>"
      ],
      "text/plain": [
       "               plugin                              description_for_model  \\\n",
       "0           Chat TMDB  ChatGPT, utilize the TMDB plugin to fetch real...   \n",
       "1  Property Finder UK  Help human to find a property for sale or to r...   \n",
       "2        Snappy Gifts  Plugin for generating personalized gift recomm...   \n",
       "3   Workout Generator   Display the workout using markdown, embed images   \n",
       "4               Diary  This plugin offers prompts for seamless diary ...   \n",
       "\n",
       "                               description_for_human  \n",
       "0  Movies, Actors and TV shows from TMDB, a datab...  \n",
       "1        Find properties for sale or rent in the UK.  \n",
       "2  Personalized gift options for any budget or ev...  \n",
       "3  Create strength training workouts, for goals l...  \n",
       "4  Kickstart your diary journey. Keeping a diary ...  "
      ]
     },
     "execution_count": 42,
     "metadata": {},
     "output_type": "execute_result"
    }
   ],
   "source": [
    "# Create a new DataFrame with 'id' and 'description_for_model' for each plugin\n",
    "plugins_df = pd.DataFrame(\n",
    "    [(item['manifest']['name_for_human'], item['manifest']['description_for_model'], item['manifest']['description_for_human']) for item in df['items']],\n",
    "    columns=['plugin', 'description_for_model', 'description_for_human']\n",
    ")\n",
    "\n",
    "plugins_df.head()"
   ]
  },
  {
   "cell_type": "code",
   "execution_count": 43,
   "metadata": {},
   "outputs": [
    {
     "data": {
      "text/plain": [
       "dict_keys(['Shopping', 'Job and Career', 'Financial', 'AI assisted search', 'Content Search', 'Japan', 'Learning', 'Marketing', 'Code', 'News', 'Analytics', 'Sports', 'Entertainment', 'Machine Learning', 'Summarization', 'Legal', 'Charts and Diagrams', 'Productivity', 'Earth', 'Uncategorized'])"
      ]
     },
     "execution_count": 43,
     "metadata": {},
     "output_type": "execute_result"
    }
   ],
   "source": [
    "# Define categories and associated keywords\n",
    "categories = {\n",
    "    \"Shopping\": [\"products\", \"shopping\", \"coupons\", \"amazon\", \"ebay\", \"aliexpress\", \"deals\", \"shop\"],\n",
    "    \"Job and Career\": [\"job\", \"talent\", \"hiring\", \"freelance\", \"interview\", \"career\", \"recruit\", \"recruitment\", \"salary\"],\n",
    "    \"Financial\": [\"market data\", \"stocks\", \"market analytics\", \"financial\", \"crypto\", \"finance\", \"bank\", \"interest rates\", \"currency\", \"bitcoin\", \"btc\", \"eth\"],\n",
    "    \"AI assisted search\": [\"ai-assisted\", \"search\", \"google\", \"bing\", \"wolfram\" ],\n",
    "    \"Content Search\": [\"pdf\", \"videos\", \"links\", \"url link\", \"video search\", \"pdfs\"],\n",
    "    \"Japan\": [\"japan\", \"japanese\"],\n",
    "    \"Learning\": [\"education\", \"learn\", \"lessons\", \"learning material\", \"curriculum\", \"class\", \"classes\", \"teacher\", \"teachers\", \"tutor\", \"tutors\"],\n",
    "    \"Marketing\": [\"social network\", \"marketing\", \"posting\", \"seo\", \"search engine optimization\", \"social media\", \"social media marketing\", \"social media management\"],\n",
    "    \"Code\": [\"github\", \"coding\", \"code generation\", \"code\", \"programming\", \"programmer\", \"programmers\", \"developer\", \"developers\", \"development\", \"develop\", \"develops\", \"developing\", \"software\", \"stack overflow\", \"stackoverflow\", \"domain\", \"domains\"],\n",
    "    \"News\": [\"news\", \"newspaper\", \"newspapers\", \"article\", \"articles\", \"blog\", \"blogs\", \"blogging\"],\n",
    "    \"Analytics\": [\"analytics\", \"insights\", \"data insights\", \"data analytics\", \"data analysis\", \"data scientist\"],\n",
    "    \"Sports\": [\"sports\", \"nfl\", \"nhl\", \"nba\", \"nfl\", \"mlb\", \"baseball\", \"football\", \"basketball\", \"soccer\", \"hockey\", \"team\", \"teams\", \"player\", \"players\", \"score\", \"scores\", \"standings\", \"standings\", \"stats\", \"statistics\"],\n",
    "    \"Entertainment\": [\"tv shows\", \"tv\", \"movies\", \"games\", \"minecraft\", \"gaming\", \"game\", \"video games\", \"video game\", \"anime\", \"manga\", \"comic\", \"comics\", \"cartoon\", \"cartoons\", \"entertainment\", \"fun\", \"funny\", \"joke\", \"jokes\", \"meme\", \"memes\", \"music\", \"songs\", \"song\", \"lyrics\", \"lyric\", \"lyric search\", \"lyrics search\", \"poem\", \"poems\", \"poetry\", \"poet\", \"poets\", \"poem search\", \"poems search\", \"poetry search\", \"poet search\", \"poets search\", \"story\", \"stories\", \"novel\", \"novels\", \"book\", \"books\", \"audiobook\", \"audiobooks\", \"pokemon\"],\n",
    "    \"Machine Learning\": [\"ml\", \"machine learning\", \"dataset exploration\", \"datasets\", \"dataset\", \"data visualization\"],\n",
    "    \"Summarization\": [\"summarize\", \"summarization\", \"paraphraser\", \"paraphrase\", \"summarizer\"],\n",
    "    \"Legal\": [\"law\", \"legal\", \"laws\", \"lawyer\", \"lawyers\", \"attorney\", \"attorneys\", \"legal advice\", \"legal advice\"],\n",
    "    \"Charts and Diagrams\": [\"graph\", \"graphing\", \"charts\", \"charting\", \"diagrams\", \"diagram\", \"plot\", \"plots\", \"plotting\", \"form\", \"forms\"],\n",
    "    \"Productivity\": [\"automation\", \"productivity\", \"translation\", \"utility\", \"utilities\", \"task\", \"tasks\", \"todos\", \"todo\", \"calendar\", \"calendars\", \"reminder\", \"reminders\", \"timer\", \"timers\", \"alarm\", \"alarms\", \"clock\", \"clocks\", \"time\", \"times\", \"date\", \"dates\", \"schedule\", \"schedules\", \"planner\", \"planners\", \"note\", \"notes\", \"notepad\", \"notepads\", \"calculator\", \"calculators\"],\n",
    "    \"Earth\": [\"earth\", \"weather\", \"map\", \"maps\", \"travel\"],\n",
    "    \"Uncategorized\": []\n",
    "}\n",
    "\n",
    "# Lowercase all keywords for accurate matching\n",
    "for category, keywords in categories.items():\n",
    "    categories[category] = [keyword.lower() for keyword in keywords]\n",
    "\n",
    "categories.keys()\n"
   ]
  },
  {
   "cell_type": "code",
   "execution_count": 44,
   "metadata": {},
   "outputs": [
    {
     "data": {
      "text/plain": [
       "dict_keys(['AI assisted search', 'Analytics', 'Charts and Diagrams', 'Code', 'Content Search', 'Earth', 'Entertainment', 'Financial', 'Japan', 'Job and Career', 'Learning', 'Legal', 'Machine Learning', 'Marketing', 'News', 'Productivity', 'Shopping', 'Sports', 'Summarization', 'Uncategorized'])"
      ]
     },
     "execution_count": 44,
     "metadata": {},
     "output_type": "execute_result"
    }
   ],
   "source": [
    "from collections import defaultdict\n",
    "\n",
    "def categorize_plugin(plugin, categories):\n",
    "    # Extract necessary fields\n",
    "    name = plugin['plugin']\n",
    "    description_model = plugin['description_for_model'].lower()\n",
    "    description_human = plugin['description_for_human'].lower()\n",
    "\n",
    "    # Initialize a dictionary to store matched categories\n",
    "    matched_categories = defaultdict(int)\n",
    "\n",
    "    for category, keywords in categories.items():\n",
    "        # Check each category. Categories is a dict of \"plugin\": [\"keyword1\", \"keyword2\"...]\n",
    "        # Check if any of the keywords match the plugin's description\n",
    "        if any(keyword in description_model or keyword in description_human for keyword in keywords):\n",
    "            matched_categories[category] += 1\n",
    "    \n",
    "    # if no categories were matched, assign the plugin to the 'Uncategorized' category\n",
    "    if not matched_categories:\n",
    "        matched_categories['Uncategorized'] += 1\n",
    "    \n",
    "    # Sort the categories by count and return the top 2\n",
    "    sorted_categories = sorted(matched_categories.items(), key=lambda x: x[1], reverse=True)[:2]\n",
    "    return [category for category, _ in sorted_categories]\n",
    "        \n",
    "        \n",
    "# Initialize a dictionary to store plugins by category\n",
    "categorized_plugins = defaultdict(list)\n",
    "\n",
    "for _, plugin in plugins_df.iterrows():\n",
    "    categorized = categorize_plugin(plugin, categories)\n",
    "    for category in categorized:\n",
    "        categorized_plugins[category].append(plugin)\n",
    "\n",
    "# Sort the categories alphabetically\n",
    "categorized_plugins = dict(sorted(categorized_plugins.items(), key=lambda item: item[0]))\n",
    "\n",
    "categorized_plugins.keys()\n"
   ]
  },
  {
   "cell_type": "code",
   "execution_count": 45,
   "metadata": {},
   "outputs": [
    {
     "name": "stdout",
     "output_type": "stream",
     "text": [
      "AI assisted search: 215 plugins\n",
      "Analytics: 20 plugins\n",
      "Charts and Diagrams: 87 plugins\n",
      "Code: 78 plugins\n",
      "Content Search: 57 plugins\n",
      "Earth: 18 plugins\n",
      "Entertainment: 66 plugins\n",
      "Financial: 112 plugins\n",
      "Japan: 7 plugins\n",
      "Job and Career: 40 plugins\n",
      "Learning: 35 plugins\n",
      "Legal: 4 plugins\n",
      "Machine Learning: 8 plugins\n",
      "Marketing: 17 plugins\n",
      "News: 32 plugins\n",
      "Productivity: 54 plugins\n",
      "Shopping: 67 plugins\n",
      "Sports: 20 plugins\n",
      "Summarization: 9 plugins\n",
      "Uncategorized: 72 plugins\n"
     ]
    }
   ],
   "source": [
    "for category, plugins in categorized_plugins.items():\n",
    "    print(f\"{category}: {len(plugins)} plugins\")"
   ]
  },
  {
   "cell_type": "code",
   "execution_count": 46,
   "metadata": {},
   "outputs": [],
   "source": [
    "# Function to create markdown text for a plugin\n",
    "def create_markdown_for_plugin(plugin):\n",
    "    name = plugin['plugin']\n",
    "    description = plugin['description_for_human']\n",
    "    return f\"- **{name}**: {description}\\n\"\n",
    "\n",
    "# Initialize the markdown text\n",
    "markdown_text = \"# Categorized Plugins\\n\\n\"\n",
    "\n",
    "# Create markdown text for each category and its plugins\n",
    "for category, plugins in categorized_plugins.items():\n",
    "    markdown_text += f\"\\n## {category}\\n\\n\"\n",
    "    for plugin in plugins:\n",
    "        markdown_text += create_markdown_for_plugin(plugin)\n",
    "\n",
    "# Write the markdown text to a file\n",
    "with open(\"categorized_plugins.md\", \"w\") as file:\n",
    "    file.write(markdown_text)\n"
   ]
  },
  {
   "cell_type": "code",
   "execution_count": 47,
   "metadata": {},
   "outputs": [
    {
     "name": "stdout",
     "output_type": "stream",
     "text": [
      "Requirement already satisfied: markdown-toc in /opt/homebrew/lib/python3.11/site-packages (1.2.6)\n",
      "Requirement already satisfied: python-dateutil in /opt/homebrew/lib/python3.11/site-packages (from markdown-toc) (2.8.2)\n",
      "Requirement already satisfied: six>=1.5 in /opt/homebrew/lib/python3.11/site-packages (from python-dateutil->markdown-toc) (1.16.0)\n",
      "Note: you may need to restart the kernel to use updated packages.\n",
      "Creating a Table of Contents for 'categorized_plugins.md'\n"
     ]
    }
   ],
   "source": [
    "# Create a Markdown TOC (Table of Contents) for the file\n",
    "%pip install markdown-toc\n",
    "!markdown-toc -toc \"## Plugin Categories\" -t github categorized_plugins.md"
   ]
  },
  {
   "cell_type": "code",
   "execution_count": 48,
   "metadata": {},
   "outputs": [],
   "source": [
    "import re\n",
    "\n",
    "# Append plugins_by_topic.md into README.md, inside the tags: <!-- BEGIN PLUGINS --> and <!-- END PLUGINS -->\n",
    "with open(\"../README.md\", \"r\") as file:\n",
    "    readme_text = file.read()\n",
    "\n",
    "with open(\"categorized_plugins.md\", \"r\") as file:\n",
    "    markdown_text = file.read()\n",
    "\n",
    "with open(\"../README.md\", \"w\") as file:\n",
    "    # Replace the text between the tags <!-- BEGIN PLUGINS --> and <!-- END PLUGINS --> with the markdown text\n",
    "    readme_text = re.sub(r\"<!-- BEGIN PLUGINS -->(.|\\n)*<!-- END PLUGINS -->\", f\"<!-- BEGIN PLUGINS -->\\n\\n{markdown_text}\\n\\n<!-- END PLUGINS -->\", readme_text)\n",
    "    file.write(readme_text)"
   ]
  }
 ],
 "metadata": {
  "kernelspec": {
   "display_name": "Python 3",
   "language": "python",
   "name": "python3"
  },
  "language_info": {
   "codemirror_mode": {
    "name": "ipython",
    "version": 3
   },
   "file_extension": ".py",
   "mimetype": "text/x-python",
   "name": "python",
   "nbconvert_exporter": "python",
   "pygments_lexer": "ipython3",
   "version": "3.11.4"
  },
  "orig_nbformat": 4
 },
 "nbformat": 4,
 "nbformat_minor": 2
}
