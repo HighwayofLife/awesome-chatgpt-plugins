{
 "cells": [
  {
   "cell_type": "code",
   "execution_count": 326,
   "metadata": {},
   "outputs": [
    {
     "data": {
      "text/plain": [
       "{'id': 'plugin-f1440a26-db54-4cae-a394-425c4042ecaa',\n",
       " 'domain': 'baseball-stats.azurewebsites.net',\n",
       " 'namespace': 'Major_League_Baseball_Statistics_Plugin',\n",
       " 'status': 'approved',\n",
       " 'manifest': {'schema_version': 'v1',\n",
       "  'name_for_model': 'Major_League_Baseball_Statistics_Plugin',\n",
       "  'name_for_human': 'MLB Stats',\n",
       "  'description_for_model': \"Plugin for retrieving up to date baseball statistics for teams and players across the MLB. This plugin should be used for retrieving any baseball-related information that is current beyond ChatGPT's cutoff date of September 2021.\",\n",
       "  'description_for_human': 'Access up-to-date baseball news and statistics for players and teams across the MLB.',\n",
       "  'auth': {'type': 'none'},\n",
       "  'api': {'type': 'openapi',\n",
       "   'url': 'https://baseball-stats.azurewebsites.net/openapi.yaml'},\n",
       "  'logo_url': 'https://baseball-stats.azurewebsites.net/logo.png',\n",
       "  'contact_email': 'joe.fogelman9@gmail.com',\n",
       "  'legal_info_url': 'https://github.com/fogel-j/baseball-stats-ai'},\n",
       " 'oauth_client_id': None,\n",
       " 'user_settings': {'is_installed': False, 'is_authenticated': True},\n",
       " 'categories': [{'id': 'newly_added', 'title': 'New'}]}"
      ]
     },
     "execution_count": 326,
     "metadata": {},
     "output_type": "execute_result"
    }
   ],
   "source": [
    "import json\n",
    "import pandas as pd\n",
    "\n",
    "# Load the JSON file\n",
    "with open(\"chatgpt_plugins.json\", \"r\") as file:\n",
    "    plugins = json.load(file)\n",
    "\n",
    "# Convert to DataFrame\n",
    "df = pd.DataFrame(plugins)\n",
    "\n",
    "df['items'][0]"
   ]
  },
  {
   "cell_type": "code",
   "execution_count": 327,
   "metadata": {},
   "outputs": [
    {
     "data": {
      "text/html": [
       "<div>\n",
       "<style scoped>\n",
       "    .dataframe tbody tr th:only-of-type {\n",
       "        vertical-align: middle;\n",
       "    }\n",
       "\n",
       "    .dataframe tbody tr th {\n",
       "        vertical-align: top;\n",
       "    }\n",
       "\n",
       "    .dataframe thead th {\n",
       "        text-align: right;\n",
       "    }\n",
       "</style>\n",
       "<table border=\"1\" class=\"dataframe\">\n",
       "  <thead>\n",
       "    <tr style=\"text-align: right;\">\n",
       "      <th></th>\n",
       "      <th>plugin</th>\n",
       "      <th>description_for_model</th>\n",
       "      <th>description_for_human</th>\n",
       "      <th>logo_url</th>\n",
       "    </tr>\n",
       "  </thead>\n",
       "  <tbody>\n",
       "    <tr>\n",
       "      <th>0</th>\n",
       "      <td>MLB Stats</td>\n",
       "      <td>Plugin for retrieving up to date baseball stat...</td>\n",
       "      <td>Access up-to-date baseball news and statistics...</td>\n",
       "      <td>https://baseball-stats.azurewebsites.net/logo.png</td>\n",
       "    </tr>\n",
       "    <tr>\n",
       "      <th>1</th>\n",
       "      <td>Love Discounts UK</td>\n",
       "      <td>Fetches store information and available coupon...</td>\n",
       "      <td>Ask for the best Love Discounts UK codes for 1...</td>\n",
       "      <td>https://cdn.lovesavingsgroup.com/assets/favico...</td>\n",
       "    </tr>\n",
       "    <tr>\n",
       "      <th>2</th>\n",
       "      <td>API Bot</td>\n",
       "      <td>API Bot provides information about aws , googl...</td>\n",
       "      <td>This is a conversational bot that lets you ask...</td>\n",
       "      <td>https://firebasestorage.googleapis.com/v0/b/se...</td>\n",
       "    </tr>\n",
       "    <tr>\n",
       "      <th>3</th>\n",
       "      <td>AIQuest</td>\n",
       "      <td>As AI, you generate a unique story based on pl...</td>\n",
       "      <td>An interactive text adventure. Your choices sh...</td>\n",
       "      <td>https://aiquest.waxime.dev/logo.png</td>\n",
       "    </tr>\n",
       "    <tr>\n",
       "      <th>4</th>\n",
       "      <td>Denison Yachting</td>\n",
       "      <td>Plugin for searching through our selection of ...</td>\n",
       "      <td>Search yachts for sale, charters, new construc...</td>\n",
       "      <td>https://www.denisonyachtsales.com/.well-known/...</td>\n",
       "    </tr>\n",
       "  </tbody>\n",
       "</table>\n",
       "</div>"
      ],
      "text/plain": [
       "              plugin                              description_for_model  \\\n",
       "0          MLB Stats  Plugin for retrieving up to date baseball stat...   \n",
       "1  Love Discounts UK  Fetches store information and available coupon...   \n",
       "2            API Bot  API Bot provides information about aws , googl...   \n",
       "3            AIQuest  As AI, you generate a unique story based on pl...   \n",
       "4   Denison Yachting  Plugin for searching through our selection of ...   \n",
       "\n",
       "                               description_for_human  \\\n",
       "0  Access up-to-date baseball news and statistics...   \n",
       "1  Ask for the best Love Discounts UK codes for 1...   \n",
       "2  This is a conversational bot that lets you ask...   \n",
       "3  An interactive text adventure. Your choices sh...   \n",
       "4  Search yachts for sale, charters, new construc...   \n",
       "\n",
       "                                            logo_url  \n",
       "0  https://baseball-stats.azurewebsites.net/logo.png  \n",
       "1  https://cdn.lovesavingsgroup.com/assets/favico...  \n",
       "2  https://firebasestorage.googleapis.com/v0/b/se...  \n",
       "3                https://aiquest.waxime.dev/logo.png  \n",
       "4  https://www.denisonyachtsales.com/.well-known/...  "
      ]
     },
     "execution_count": 327,
     "metadata": {},
     "output_type": "execute_result"
    }
   ],
   "source": [
    "# Create a new DataFrame with 'id' and 'description_for_model' for each plugin\n",
    "plugins_df = pd.DataFrame(\n",
    "    [(item['manifest']['name_for_human'], item['manifest']['description_for_model'], item['manifest']['description_for_human'], item['manifest']['logo_url']) for item in df['items']],\n",
    "    columns=['plugin', 'description_for_model', 'description_for_human', 'logo_url']\n",
    ")\n",
    "\n",
    "plugins_df.head()"
   ]
  },
  {
   "cell_type": "code",
   "execution_count": 328,
   "metadata": {},
   "outputs": [
    {
     "data": {
      "text/plain": [
       "dict_keys(['Charts and Diagrams', 'Coding', 'Documents', 'Earth', 'Education / Learning', 'Entertainment', 'Events', 'Finance', 'Food & Drink', 'Health & Fitness', 'Job and Career', 'Legal', 'Marketing', 'News & Media', 'Productivity', 'Prompts', 'Search', 'Shopping', 'Social Networking', 'Sports', 'Summarization', 'Text', 'Travel', 'Uncategorized', 'Video'])"
      ]
     },
     "execution_count": 328,
     "metadata": {},
     "output_type": "execute_result"
    }
   ],
   "source": [
    "categories = {\n",
    "    'Charts and Diagrams': [\"graph\", \"graphing\", \"charts\", \"charting\", \"diagrams\", \"diagram\", \"plot\", \"plots\", \"plotting\", \"form\", \"forms\"],\n",
    "    'Coding' : ['code', 'program', 'software', 'development', 'algorithm', 'debug', 'compile', 'script', 'library', 'API', 'framework', 'coding', 'github', 'repo', 'repository', 'stack overflow', 'stackoverflow', 'domain', 'domains', 'dns', 'programming'],\n",
    "    'Documents' : ['docs', 'documents', 'pdf', 'pdfs'],\n",
    "    'Earth': [\"earth\", \"weather\", \"map\", \"maps\", \"nasa\"],\n",
    "    'Education / Learning' : ['learn', 'education', 'study', 'course', 'school', 'book', 'teach', 'lecture', 'tutor', 'academic', 'university', 'college', 'knowledge'],\n",
    "    'Entertainment' : ['movie', 'game', 'games', 'music', 'entertain', 'fun', 'play', 'show', 'theatre', 'concert', 'party', 'festival', 'trivia', 'entertainment', 'tv shows', 'movies', 'adventure', 'pokemon' ],\n",
    "    'Events' : ['event', 'events', 'tickets', 'ticket', 'concert', 'concerts', 'show', 'shows', 'festival', 'festivals', 'party', 'parties'],\n",
    "    'Finance' : ['finance', 'money', 'bank', 'stock', 'investment', 'crypto', 'budget', 'economy', 'transaction', 'insurance', 'loan', 'bitcoin', 'blockchain', 'currency', 'trading', 'stock market', 'financial', 'finances', 'earnings', 'tokens', 'etherium', 'ETH', 'BTC'],\n",
    "    'Food & Drink' : ['food', 'drink', 'eat', 'cook', 'recipe', 'dining', 'restaurant', 'cuisine', 'meal', 'bake', 'taste', 'gourmet'],\n",
    "    'Health & Fitness' : ['health', 'fitness', 'gym', 'diet', 'exercise', 'wellness', 'nutrition', 'workout', 'training', 'yoga', 'meditation'],\n",
    "    'Job and Career' : ['job', 'career', 'work', 'employ', 'hire', 'profession', 'recruit', 'salary', 'interview', 'resume', 'position', 'occupation'],\n",
    "    'Legal': [\"law\", \"legal\", \"laws\", \"case laws\", \"caselaw\", \"lawyer\", \"lawyers\", \"attorney\", \"attorneys\", 'bills', 'congress', 'politics', 'politicians', 'bylaws', 'legislation', 'legislature', 'legislative', 'legislatures'],\n",
    "    'Marketing' : ['market', 'advertise', 'brand', 'campaign', 'SEO', 'analytics', 'target', 'strategy', 'promotion', 'sales', 'customer', 'conversion', 'pitch', 'business', 'startup'],\n",
    "    'News & Media' : ['news', 'media', 'journal', 'report', 'press', 'publish', 'broadcast', 'headline', 'article', 'coverage', 'newspaper', 'magazine'],\n",
    "    'Productivity' : ['productivity', 'organize', 'manage', 'efficiency', 'work', 'task', 'goal', 'project', 'schedule', 'planning', 'optimize', 'reminders', 'reminder', 'todo', 'todos', 'calendar', 'timer', 'alarm', 'notes', 'planner', 'calculator', 'utility', 'utilities', 'track', 'assistant', 'diary', 'journal'],\n",
    "    'Prompts' : ['prompt', 'prompts', 'prompting'],\n",
    "    'Search': ['link', 'links', 'url', 'web page', 'bing', 'google', 'wolfram', 'search', 'fetch'],\n",
    "    'Shopping' : ['shop', 'buy', 'purchase', 'sell', 'store', 'market', 'retail', 'sale', 'shopping', 'amazon', 'ebay', 'products', 'product', 'deal', 'deals', 'for sale', 'sale', 'discount'],\n",
    "    'Social Networking' : ['social', 'network', 'chat', 'message', 'friend', 'community', 'share', 'connect', 'follow', 'post', 'like', 'comment', 'twitter', 'facebook', 'instagram', 'snapchat', 'tiktok', 'linkedin', 'pinterest', 'reddit', 'social media', 'social network', 'tweet', 'tweets'],\n",
    "    'Sports' : ['sport', 'game', 'player', 'team', 'score', 'league', 'match', 'coach', 'stadium', 'tournament', 'athlete', 'fitness'],\n",
    "    'Summarization': [\"summarize\", \"summarization\", \"paraphraser\", \"paraphrase\", \"summarizer\", 'summary'],\n",
    "    'Text': ['text', 'translate', 'language', 'poem', 'poems', 'quote', 'quotes'],\n",
    "    'Travel' : ['travel', 'flight', 'flights', 'hotel', 'trip', 'journey', 'tour', 'vacation', 'holiday', 'explore', 'destination', 'adventure', 'travel', 'train', 'subway', 'ferry', 'ferries', 'theme park'],\n",
    "    'Uncategorized': [],\n",
    "    'Video' : ['video', 'youtube', 'videos', 'vimeo', 'tiktok', 'twitch' ]\n",
    "}\n",
    "\n",
    "# Lowercase all keywords for accurate matching\n",
    "for category, keywords in categories.items():\n",
    "    categories[category] = [keyword.lower() for keyword in keywords]\n",
    "\n",
    "categories.keys()"
   ]
  },
  {
   "cell_type": "code",
   "execution_count": 329,
   "metadata": {},
   "outputs": [
    {
     "data": {
      "text/plain": [
       "dict_keys(['Charts and Diagrams', 'Coding', 'Documents', 'Earth', 'Education / Learning', 'Entertainment', 'Events', 'Finance', 'Food & Drink', 'Health & Fitness', 'Job and Career', 'Legal', 'Marketing', 'News & Media', 'Productivity', 'Prompts', 'Search', 'Shopping', 'Social Networking', 'Sports', 'Summarization', 'Text', 'Travel', 'Uncategorized', 'Video'])"
      ]
     },
     "execution_count": 329,
     "metadata": {},
     "output_type": "execute_result"
    }
   ],
   "source": [
    "from collections import defaultdict\n",
    "\n",
    "def categorize_plugin(plugin, categories):\n",
    "    # Extract necessary fields\n",
    "    name = plugin['plugin'].lower()\n",
    "    description_model = plugin['description_for_model'].lower()\n",
    "    description_human = plugin['description_for_human'].lower()\n",
    "\n",
    "    # Initialize a dictionary to store matched categories\n",
    "    matched_categories = defaultdict(int)\n",
    "\n",
    "    for category, keywords in categories.items():\n",
    "        # Check if any of the keywords match the plugin's description\n",
    "        for keyword in keywords:\n",
    "            # If the keyword is in the plugin name, it's ranked very highly\n",
    "            # Do a partial word match for if keyword appears in the plugin name\n",
    "            if keyword in name or name.find(keyword) != -1:\n",
    "                matched_categories[category] += 3\n",
    "            \n",
    "            # The short (human) description get's a mid-level rank\n",
    "            if keyword in description_human:\n",
    "                matched_categories[category] += 2\n",
    "            \n",
    "            # Keywords appearing in the longer model description get a lower rank\n",
    "            if keyword in description_model:\n",
    "                matched_categories[category] += 1\n",
    "    \n",
    "    # if no categories were matched, assign the plugin to the 'Uncategorized' category\n",
    "    if not matched_categories:\n",
    "        matched_categories['Uncategorized'] += 1\n",
    "    \n",
    "    # Sort the categories by count and return the top 1\n",
    "    sorted_categories = sorted(matched_categories.items(), key=lambda x: x[1], reverse=True)[:1]\n",
    "    return [category for category, _ in sorted_categories]\n",
    "        \n",
    "        \n",
    "# Initialize a dictionary to store plugins by category\n",
    "categorized_plugins = defaultdict(list)\n",
    "\n",
    "for _, plugin in plugins_df.iterrows():\n",
    "    categorized = categorize_plugin(plugin, categories)\n",
    "    for category in categorized:\n",
    "        categorized_plugins[category].append(plugin)\n",
    "\n",
    "# Sort the categories alphabetically\n",
    "categorized_plugins = dict(sorted(categorized_plugins.items(), key=lambda item: item[0]))\n",
    "\n",
    "categorized_plugins.keys()\n"
   ]
  },
  {
   "cell_type": "code",
   "execution_count": 330,
   "metadata": {},
   "outputs": [
    {
     "name": "stdout",
     "output_type": "stream",
     "text": [
      "Charts and Diagrams: 38 plugins\n",
      "Coding: 70 plugins\n",
      "Documents: 13 plugins\n",
      "Earth: 20 plugins\n",
      "Education / Learning: 30 plugins\n",
      "Entertainment: 44 plugins\n",
      "Events: 11 plugins\n",
      "Finance: 52 plugins\n",
      "Food & Drink: 29 plugins\n",
      "Health & Fitness: 4 plugins\n",
      "Job and Career: 25 plugins\n",
      "Legal: 9 plugins\n",
      "Marketing: 23 plugins\n",
      "News & Media: 14 plugins\n",
      "Productivity: 32 plugins\n",
      "Prompts: 10 plugins\n",
      "Search: 70 plugins\n",
      "Shopping: 62 plugins\n",
      "Social Networking: 32 plugins\n",
      "Sports: 9 plugins\n",
      "Summarization: 2 plugins\n",
      "Text: 13 plugins\n",
      "Travel: 28 plugins\n",
      "Uncategorized: 15 plugins\n",
      "Video: 16 plugins\n"
     ]
    }
   ],
   "source": [
    "for category, plugins in categorized_plugins.items():\n",
    "    print(f\"{category}: {len(plugins)} plugins\")"
   ]
  },
  {
   "cell_type": "code",
   "execution_count": 331,
   "metadata": {},
   "outputs": [],
   "source": [
    "# Function to create markdown text for a plugin\n",
    "def create_markdown_for_plugin(plugin):\n",
    "    name = plugin['plugin'].strip()\n",
    "    description = plugin['description_for_human'].strip().replace(\"\\n\", \" \")\n",
    "    # Logo URL if it exists, otherwise empty string\n",
    "    logo_url = plugin['logo_url'].strip() \n",
    "    logo = f\"<img src=\\\"{logo_url}\\\" alt=\\\"logo\\\" width=\\\"64\\\" />\" if logo_url else \"\"\n",
    "    return f\"| {logo} | **{name}** | {description} |\\n\"\n",
    "\n",
    "# Initialize the markdown text\n",
    "markdown_text = \"# Categorized Plugins\\n\\n\"\n",
    "\n",
    "# Create markdown text for each category and its plugins\n",
    "for category, plugins in categorized_plugins.items():\n",
    "    markdown_text += f\"\\n## {category}\\n\\n| Logo | Plugin Name | Description |\\n| --- | --- | --- |\\n\"\n",
    "    for plugin in plugins:\n",
    "        markdown_text += create_markdown_for_plugin(plugin)\n",
    "\n",
    "# Write the markdown text to a file\n",
    "with open(\"categorized_plugins.md\", \"w\") as file:\n",
    "    file.write(markdown_text)\n"
   ]
  },
  {
   "cell_type": "code",
   "execution_count": 332,
   "metadata": {},
   "outputs": [
    {
     "name": "stdout",
     "output_type": "stream",
     "text": [
      "Requirement already satisfied: markdown-toc in /opt/homebrew/lib/python3.11/site-packages (1.2.6)\n",
      "Requirement already satisfied: python-dateutil in /opt/homebrew/lib/python3.11/site-packages (from markdown-toc) (2.8.2)\n",
      "Requirement already satisfied: six>=1.5 in /opt/homebrew/lib/python3.11/site-packages (from python-dateutil->markdown-toc) (1.16.0)\n",
      "Note: you may need to restart the kernel to use updated packages.\n",
      "Creating a Table of Contents for 'categorized_plugins.md'\n"
     ]
    }
   ],
   "source": [
    "# Create a Markdown TOC (Table of Contents) for the file\n",
    "%pip install markdown-toc\n",
    "!markdown-toc -toc \"## Plugin Categories\" -t github categorized_plugins.md"
   ]
  },
  {
   "cell_type": "code",
   "execution_count": 333,
   "metadata": {},
   "outputs": [],
   "source": [
    "import re\n",
    "\n",
    "# Append plugins_by_topic.md into README.md, inside the tags: <!-- BEGIN PLUGINS --> and <!-- END PLUGINS -->\n",
    "with open(\"../README.md\", \"r\") as file:\n",
    "    readme_text = file.read()\n",
    "\n",
    "with open(\"categorized_plugins.md\", \"r\") as file:\n",
    "    markdown_text = file.read()\n",
    "\n",
    "with open(\"../README.md\", \"w\") as file:\n",
    "    # Replace the text between the tags <!-- BEGIN PLUGINS --> and <!-- END PLUGINS --> with the markdown text\n",
    "    readme_text = re.sub(r\"<!-- BEGIN PLUGINS -->(.|\\n)*<!-- END PLUGINS -->\", f\"<!-- BEGIN PLUGINS -->\\n\\n{markdown_text}\\n\\n<!-- END PLUGINS -->\", readme_text)\n",
    "    file.write(readme_text)"
   ]
  }
 ],
 "metadata": {
  "kernelspec": {
   "display_name": "Python 3",
   "language": "python",
   "name": "python3"
  },
  "language_info": {
   "codemirror_mode": {
    "name": "ipython",
    "version": 3
   },
   "file_extension": ".py",
   "mimetype": "text/x-python",
   "name": "python",
   "nbconvert_exporter": "python",
   "pygments_lexer": "ipython3",
   "version": "3.11.4"
  },
  "orig_nbformat": 4
 },
 "nbformat": 4,
 "nbformat_minor": 2
}
